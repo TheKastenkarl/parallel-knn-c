{
  "cells": [
    {
      "cell_type": "code",
      "execution_count": 1,
      "metadata": {
        "colab": {
          "base_uri": "https://localhost:8080/"
        },
        "id": "OEm6GxLePnsK",
        "outputId": "73d26838-3d56-4a30-a482-76b2fe79e211"
      },
      "outputs": [
        {
          "output_type": "stream",
          "name": "stdout",
          "text": [
            "nvcc: NVIDIA (R) Cuda compiler driver\n",
            "Copyright (c) 2005-2021 NVIDIA Corporation\n",
            "Built on Sun_Feb_14_21:12:58_PST_2021\n",
            "Cuda compilation tools, release 11.2, V11.2.152\n",
            "Build cuda_11.2.r11.2/compiler.29618528_0\n",
            "Sun Jan  8 23:48:31 2023       \n",
            "+-----------------------------------------------------------------------------+\n",
            "| NVIDIA-SMI 460.32.03    Driver Version: 460.32.03    CUDA Version: 11.2     |\n",
            "|-------------------------------+----------------------+----------------------+\n",
            "| GPU  Name        Persistence-M| Bus-Id        Disp.A | Volatile Uncorr. ECC |\n",
            "| Fan  Temp  Perf  Pwr:Usage/Cap|         Memory-Usage | GPU-Util  Compute M. |\n",
            "|                               |                      |               MIG M. |\n",
            "|===============================+======================+======================|\n",
            "|   0  Tesla T4            Off  | 00000000:00:04.0 Off |                    0 |\n",
            "| N/A   48C    P0    27W /  70W |      0MiB / 15109MiB |      0%      Default |\n",
            "|                               |                      |                  N/A |\n",
            "+-------------------------------+----------------------+----------------------+\n",
            "                                                                               \n",
            "+-----------------------------------------------------------------------------+\n",
            "| Processes:                                                                  |\n",
            "|  GPU   GI   CI        PID   Type   Process name                  GPU Memory |\n",
            "|        ID   ID                                                   Usage      |\n",
            "|=============================================================================|\n",
            "|  No running processes found                                                 |\n",
            "+-----------------------------------------------------------------------------+\n"
          ]
        }
      ],
      "source": [
        "!nvcc --version\n",
        "!nvidia-smi"
      ]
    },
    {
      "cell_type": "code",
      "execution_count": 2,
      "metadata": {
        "colab": {
          "base_uri": "https://localhost:8080/"
        },
        "id": "_qizZP6dQX85",
        "outputId": "11abacee-3a12-4fb4-8c42-bf30f71a628f"
      },
      "outputs": [
        {
          "output_type": "stream",
          "name": "stdout",
          "text": [
            "Mounted at /content/drive\n",
            "/content/drive/MyDrive/Colab Notebooks/DD2360 Applied GPU Programming KTH/Project\n",
            "bin  datasets  include\tMakefile  run_parallel_knn.ipynb  src  tmp.txt\n"
          ]
        }
      ],
      "source": [
        "from google.colab import drive\n",
        "drive.mount('/content/drive')\n",
        "%cd '/content/drive/MyDrive/Colab Notebooks/DD2360 Applied GPU Programming KTH/Project'\n",
        "!ls"
      ]
    },
    {
      "cell_type": "code",
      "execution_count": 44,
      "metadata": {
        "colab": {
          "base_uri": "https://localhost:8080/"
        },
        "id": "tDbmJXh06LOk",
        "outputId": "1025606b-360a-44e0-c6ac-20dcdb11c8fa"
      },
      "outputs": [
        {
          "output_type": "stream",
          "name": "stdout",
          "text": [
            "rm -rf  src/terminal_user_input.o src/test.o src/knn.o\n",
            "rm -rf bin/knn\n",
            "rm -rf bin/test\n",
            "[ -d src ] || mkdir src\n",
            "nvcc -std=c++11 -I./include -O0 -g -G -Xcompiler -Wall -lm src/terminal_user_input.cpp -c -o src/terminal_user_input.o\n",
            "nvcc -I./include -arch=sm_75 -std=c++11 -O0 -g -G -Xcompiler -Wall --compiler-bindir=g++ -lm src/test.cu -c -o src/test.o\n",
            "nvcc -I./include -arch=sm_75 -std=c++11 -O0 -g -G -Xcompiler -Wall --compiler-bindir=g++ -lm src/terminal_user_input.o src/test.o -o bin/test\n",
            "nvcc -I./include -arch=sm_75 -std=c++11 -O0 -g -G -Xcompiler -Wall --compiler-bindir=g++ -lm -DNDEBUG src/knn.cu -c -o src/knn.o\n",
            "nvcc -I./include -arch=sm_75 -std=c++11 -O0 -g -G -Xcompiler -Wall --compiler-bindir=g++ -lm -DNDEBUG src/terminal_user_input.o src/knn.o -o bin/knn\n"
          ]
        }
      ],
      "source": [
        "!make clean\n",
        "!make all\n",
        "!chmod 755 ./bin/knn"
      ]
    },
    {
      "cell_type": "markdown",
      "metadata": {
        "id": "lu_knEH9X-Az"
      },
      "source": [
        "**Debugging:**\n",
        "- https://stackoverflow.com/questions/70626304/how-to-debug-a-cuda-google-colab-notebook\n",
        "- https://stackoverflow.com/questions/14038589/what-is-the-canonical-way-to-check-for-errors-using-the-cuda-runtime-api\n",
        "- https://www.olcf.ornl.gov/calendar/cuda-debugging/\n",
        "- https://colab.research.google.com/drive/1GJOfTp56OeQRdE4u2_S7pUNRcJb4ik9X?usp=sharing\n",
        "- https://docs.nvidia.com/cuda/cuda-gdb/index.htm\n",
        "    - (cuda-gdb) break knn.cu:238\n",
        "    - (cuda-gdb) break my_function\n",
        "    - (cuda-gdb) next\n",
        "    - (cuda-gdb) run\n",
        "    - (cuda-gdb) print &array <br/>\n",
        "      $1 = (@shared int (*)[0]) 0x20\n",
        "    - (cuda-gdb) print array[0]@4 <br/>\n",
        "      $2 = {0, 128, 64, 192}\n",
        "    - (cuda-gdb) info cuda blocks\n",
        "    - (cuda-gdb) info cuda threads\n",
        "    - (cuda-gdb) up\n",
        "    - (cuda-gdb) where\n",
        "\n",
        "datasets/iris_dataset/iris.data.csv<br/>\n",
        "datasets/iris_dataset/iris.data.small.csv"
      ]
    },
    {
      "cell_type": "code",
      "execution_count": 45,
      "metadata": {
        "colab": {
          "base_uri": "https://localhost:8080/"
        },
        "id": "N_BPR8KYURSk",
        "outputId": "9867a81b-83ec-4ab9-8be5-ba307cf86c61"
      },
      "outputs": [
        {
          "output_type": "stream",
          "name": "stdout",
          "text": [
            "Filename: datasets/iris_dataset/iris.data.csv\n",
            "k: 1, accuracy: 0.9597\n",
            "k: 3, accuracy: 0.9597\n",
            "k: 5, accuracy: 0.9664\n",
            "k: 7, accuracy: 0.9664\n",
            "k: 9, accuracy: 0.9664\n",
            "k: 11, accuracy: 0.9799\n",
            "k: 13, accuracy: 0.9664\n",
            "k: 15, accuracy: 0.9732\n",
            "k: 17, accuracy: 0.9732\n",
            "k: 19, accuracy: 0.9799\n",
            "k: 21, accuracy: 0.9732\n",
            "k: 23, accuracy: 0.9664\n",
            "k: 25, accuracy: 0.9664\n",
            "k: 27, accuracy: 0.9664\n",
            "k: 29, accuracy: 0.9530\n",
            "k: 31, accuracy: 0.9463\n",
            "k: 33, accuracy: 0.9530\n",
            "k: 35, accuracy: 0.9530\n",
            "k: 37, accuracy: 0.9463\n",
            "k: 39, accuracy: 0.9463\n",
            "k: 41, accuracy: 0.9463\n",
            "k: 43, accuracy: 0.9396\n",
            "k: 45, accuracy: 0.9463\n",
            "k: 47, accuracy: 0.9463\n",
            "k: 49, accuracy: 0.9396\n",
            "k: 51, accuracy: 0.9195\n",
            "k: 53, accuracy: 0.9329\n",
            "k: 55, accuracy: 0.9329\n",
            "k: 57, accuracy: 0.9329\n",
            "k: 59, accuracy: 0.9329\n",
            "k: 61, accuracy: 0.9262\n",
            "k: 63, accuracy: 0.9262\n",
            "k: 65, accuracy: 0.9128\n",
            "k: 67, accuracy: 0.8993\n",
            "k: 69, accuracy: 0.8993\n",
            "k: 71, accuracy: 0.9060\n",
            "k: 73, accuracy: 0.9060\n",
            "k: 75, accuracy: 0.8792\n",
            "k: 77, accuracy: 0.8658\n",
            "k: 79, accuracy: 0.8725\n",
            "k: 81, accuracy: 0.8725\n",
            "k: 83, accuracy: 0.8859\n",
            "k: 85, accuracy: 0.8792\n",
            "k: 87, accuracy: 0.8792\n",
            "k: 89, accuracy: 0.8859\n",
            "k: 91, accuracy: 0.8725\n",
            "k: 93, accuracy: 0.8725\n",
            "k: 95, accuracy: 0.8725\n",
            "k: 97, accuracy: 0.8792\n",
            "k: 99, accuracy: 0.5302\n",
            "k: 101, accuracy: 0.5235\n",
            "k: 103, accuracy: 0.4899\n",
            "k: 105, accuracy: 0.3960\n",
            "k: 107, accuracy: 0.3490\n",
            "k: 109, accuracy: 0.2282\n",
            "k: 111, accuracy: 0.1745\n",
            "k: 113, accuracy: 0.1678\n",
            "k: 115, accuracy: 0.1678\n",
            "k: 117, accuracy: 0.1678\n",
            "k: 119, accuracy: 0.1678\n",
            "k: 121, accuracy: 0.1678\n",
            "k: 123, accuracy: 0.1678\n",
            "k: 125, accuracy: 0.1678\n",
            "k: 127, accuracy: 0.1678\n",
            "k: 129, accuracy: 0.1678\n",
            "k: 131, accuracy: 0.1611\n",
            "k: 133, accuracy: 0.1611\n",
            "k: 135, accuracy: 0.1611\n",
            "k: 137, accuracy: 0.1611\n",
            "k: 139, accuracy: 0.1544\n",
            "k: 141, accuracy: 0.1544\n",
            "k: 143, accuracy: 0.1544\n",
            "k: 145, accuracy: 0.1477\n",
            "k: 147, accuracy: 0.1208\n"
          ]
        }
      ],
      "source": [
        "!./bin/knn\n",
        "#!printf \"set cuda memcheck on\\nset cuda api_failures stop\\ncatch throw\\nr\\nbt\\ninfo locals\\nthread 1\\nbt\\n\" > ./tmp.txt\n",
        "#!cuda-gdb -batch -x tmp.txt --args ./bin/knn\n",
        "#!cuda-gdb ./bin/knn\n",
        "#!compute-sanitizer --tool memcheck ./bin/knn"
      ]
    },
    {
      "cell_type": "code",
      "source": [
        "!./bin/test"
      ],
      "metadata": {
        "id": "kg3IxIG0xDfw",
        "colab": {
          "base_uri": "https://localhost:8080/"
        },
        "outputId": "453bc45e-f0b1-4d37-ad59-f85a30d1d71a"
      },
      "execution_count": 46,
      "outputs": [
        {
          "output_type": "stream",
          "name": "stdout",
          "text": [
            "\n",
            "* Suite external_suite:\n",
            ".........................Categories: Test Category\n",
            "Categories: Class2\n",
            "..\n",
            "27 tests - 27 passed, 0 failed, 0 skipped (721889 ticks, 0.722 sec)\n",
            "\n",
            "Total: 27 tests (721941 ticks, 0.722 sec), 31 assertions\n",
            "Pass: 27, fail: 0, skip: 0.\n"
          ]
        }
      ]
    }
  ],
  "metadata": {
    "colab": {
      "provenance": []
    },
    "gpuClass": "standard",
    "kernelspec": {
      "display_name": "Python 3",
      "name": "python3"
    },
    "language_info": {
      "name": "python"
    },
    "accelerator": "GPU"
  },
  "nbformat": 4,
  "nbformat_minor": 0
}