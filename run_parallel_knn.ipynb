{
  "cells": [
    {
      "cell_type": "code",
      "execution_count": 1,
      "metadata": {
        "colab": {
          "base_uri": "https://localhost:8080/"
        },
        "id": "OEm6GxLePnsK",
        "outputId": "de7d028d-0d8f-45f6-ddf2-a433b8493f33"
      },
      "outputs": [
        {
          "output_type": "stream",
          "name": "stdout",
          "text": [
            "nvcc: NVIDIA (R) Cuda compiler driver\n",
            "Copyright (c) 2005-2021 NVIDIA Corporation\n",
            "Built on Sun_Feb_14_21:12:58_PST_2021\n",
            "Cuda compilation tools, release 11.2, V11.2.152\n",
            "Build cuda_11.2.r11.2/compiler.29618528_0\n",
            "Mon Dec 12 15:06:31 2022       \n",
            "+-----------------------------------------------------------------------------+\n",
            "| NVIDIA-SMI 460.32.03    Driver Version: 460.32.03    CUDA Version: 11.2     |\n",
            "|-------------------------------+----------------------+----------------------+\n",
            "| GPU  Name        Persistence-M| Bus-Id        Disp.A | Volatile Uncorr. ECC |\n",
            "| Fan  Temp  Perf  Pwr:Usage/Cap|         Memory-Usage | GPU-Util  Compute M. |\n",
            "|                               |                      |               MIG M. |\n",
            "|===============================+======================+======================|\n",
            "|   0  Tesla T4            Off  | 00000000:00:04.0 Off |                    0 |\n",
            "| N/A   51C    P0    28W /  70W |      0MiB / 15109MiB |      0%      Default |\n",
            "|                               |                      |                  N/A |\n",
            "+-------------------------------+----------------------+----------------------+\n",
            "                                                                               \n",
            "+-----------------------------------------------------------------------------+\n",
            "| Processes:                                                                  |\n",
            "|  GPU   GI   CI        PID   Type   Process name                  GPU Memory |\n",
            "|        ID   ID                                                   Usage      |\n",
            "|=============================================================================|\n",
            "|  No running processes found                                                 |\n",
            "+-----------------------------------------------------------------------------+\n"
          ]
        }
      ],
      "source": [
        "!nvcc --version\n",
        "!nvidia-smi"
      ]
    },
    {
      "cell_type": "code",
      "execution_count": 2,
      "metadata": {
        "colab": {
          "base_uri": "https://localhost:8080/"
        },
        "id": "_qizZP6dQX85",
        "outputId": "7c96c212-0d9c-44db-b3a7-55fcea68b72b"
      },
      "outputs": [
        {
          "output_type": "stream",
          "name": "stdout",
          "text": [
            "Mounted at /content/drive\n",
            "/content/drive/MyDrive/Colab Notebooks/DD2360 Applied GPU Programming KTH/Project\n",
            "bin\t  include  Makefile\t       README.md  tmp.txt\n",
            "datasets  knn.cu   Parallel_knn.ipynb  src\n"
          ]
        }
      ],
      "source": [
        "from google.colab import drive\n",
        "drive.mount('/content/drive')\n",
        "%cd '/content/drive/MyDrive/Colab Notebooks/DD2360 Applied GPU Programming KTH/Project'\n",
        "!ls"
      ]
    },
    {
      "cell_type": "code",
      "execution_count": 7,
      "metadata": {
        "colab": {
          "base_uri": "https://localhost:8080/"
        },
        "id": "tDbmJXh06LOk",
        "outputId": "8bfb26db-50e8-44df-a440-31d846850e56"
      },
      "outputs": [
        {
          "output_type": "stream",
          "name": "stdout",
          "text": [
            "rm -rf  src/terminal_user_input.o src/test.o src/knn.o\n",
            "rm -rf bin/knn\n",
            "rm -rf bin/test\n",
            "[ -d src ] || mkdir src\n",
            "nvcc -std=c++11 -I./include -O0 -g -G -Xcompiler -Wall -lm -DNDEBUG src/terminal_user_input.cpp -c -o src/terminal_user_input.o\n",
            "nvcc -I./include -arch=sm_75 -std=c++11 -O0 -g -G -Xcompiler -Wall --compiler-bindir=g++ -lm -DNDEBUG src/knn.cu -c -o src/knn.o\n",
            "nvcc -I./include -arch=sm_75 -std=c++11 -O0 -g -G -Xcompiler -Wall --compiler-bindir=g++ -lm -DNDEBUG src/terminal_user_input.o src/knn.o -o bin/knn\n"
          ]
        }
      ],
      "source": [
        "!make clean\n",
        "#!make all\n",
        "!make knn\n",
        "!chmod 755 ./bin/knn"
      ]
    },
    {
      "cell_type": "markdown",
      "metadata": {
        "id": "lu_knEH9X-Az"
      },
      "source": [
        "**Debugging:**\n",
        "- https://stackoverflow.com/questions/70626304/how-to-debug-a-cuda-google-colab-notebook\n",
        "- https://stackoverflow.com/questions/14038589/what-is-the-canonical-way-to-check-for-errors-using-the-cuda-runtime-api\n",
        "- https://www.olcf.ornl.gov/calendar/cuda-debugging/\n",
        "- https://colab.research.google.com/drive/1GJOfTp56OeQRdE4u2_S7pUNRcJb4ik9X?usp=sharing\n",
        "- https://docs.nvidia.com/cuda/cuda-gdb/index.htm\n",
        "    - (cuda-gdb) break knn.cu:238\n",
        "    - (cuda-gdb) break my_function\n",
        "    - (cuda-gdb) next\n",
        "    - (cuda-gdb) run\n",
        "    - (cuda-gdb) print &array <br/>\n",
        "      $1 = (@shared int (*)[0]) 0x20\n",
        "    - (cuda-gdb) print array[0]@4 <br/>\n",
        "      $2 = {0, 128, 64, 192}\n",
        "    - (cuda-gdb) info cuda blocks\n",
        "    - (cuda-gdb) info cuda threads\n",
        "    - (cuda-gdb) up\n",
        "    - (cuda-gdb) where\n",
        "\n",
        "datasets/iris_dataset/iris.data.csv<br/>\n",
        "print datapoints->points[0].dimension[0]"
      ]
    },
    {
      "cell_type": "code",
      "execution_count": 12,
      "metadata": {
        "colab": {
          "base_uri": "https://localhost:8080/"
        },
        "id": "N_BPR8KYURSk",
        "outputId": "bde2656c-fadb-480c-ec6b-0a9fd7ff5b9a"
      },
      "outputs": [
        {
          "output_type": "stream",
          "name": "stdout",
          "text": [
            "========= COMPUTE-SANITIZER\n",
            "Filename: datasets/iris_dataset/iris.data.csv\n",
            "datapoints->points[0].dimension[0] = 4.700000\n",
            "========= Program hit invalid argument (error 1) on CUDA API call to cudaMemcpy.\n",
            "=========     Saved host backtrace up to driver entry point at error\n",
            "=========     Host Frame: [0x7f0683fbd373]\n",
            "=========                in /usr/lib64-nvidia/libcuda.so.1\n",
            "=========     Host Frame: [0x5592cf6572fd]\n",
            "=========                in /content/drive/MyDrive/Colab Notebooks/DD2360 Applied GPU Programming KTH/Project/./bin/knn\n",
            "=========     Host Frame: [0x5592cf608d80]\n",
            "=========                in /content/drive/MyDrive/Colab Notebooks/DD2360 Applied GPU Programming KTH/Project/./bin/knn\n",
            "=========     Host Frame: [0x5592cf60a267]\n",
            "=========                in /content/drive/MyDrive/Colab Notebooks/DD2360 Applied GPU Programming KTH/Project/./bin/knn\n",
            "=========     Host Frame: [0x5592cf60a404]\n",
            "=========                in /content/drive/MyDrive/Colab Notebooks/DD2360 Applied GPU Programming KTH/Project/./bin/knn\n",
            "=========     Host Frame:__libc_start_main [0x7f0685990c87]\n",
            "=========                in /lib/x86_64-linux-gnu/libc.so.6\n",
            "=========     Host Frame: [0x5592cf60770a]\n",
            "=========                in /content/drive/MyDrive/Colab Notebooks/DD2360 Applied GPU Programming KTH/Project/./bin/knn\n",
            "========= \n",
            "========= Error: process didn't terminate successfully\n",
            "========= Target application returned an error\n",
            "========= ERROR SUMMARY: 1 error\n"
          ]
        }
      ],
      "source": [
        "#!./bin/knn\n",
        "#!printf \"set cuda memcheck on\\nset cuda api_failures stop\\ncatch throw\\nr\\nbt\\ninfo locals\\nthread 1\\nbt\\n\" > ./tmp.txt\n",
        "#!cuda-gdb -batch -x tmp.txt --args ./bin/knn\n",
        "#!cuda-gdb ./bin/knn\n",
        "!compute-sanitizer --tool memcheck ./bin/knn"
      ]
    }
  ],
  "metadata": {
    "accelerator": "GPU",
    "colab": {
      "provenance": []
    },
    "gpuClass": "standard",
    "kernelspec": {
      "display_name": "Python 3",
      "name": "python3"
    },
    "language_info": {
      "name": "python"
    }
  },
  "nbformat": 4,
  "nbformat_minor": 0
}