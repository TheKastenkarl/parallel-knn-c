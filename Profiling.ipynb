{
  "nbformat": 4,
  "nbformat_minor": 0,
  "metadata": {
    "colab": {
      "provenance": [],
      "collapsed_sections": [
        "eHS5V2qK6gmD",
        "wVZq9z3G5-F4",
        "eXW3f_aF6Ew9",
        "DwG5sBDE6LQK",
        "gGz2fEaR6QAU"
      ]
    },
    "kernelspec": {
      "name": "python3",
      "display_name": "Python 3"
    },
    "language_info": {
      "name": "python"
    },
    "accelerator": "GPU",
    "gpuClass": "standard"
  },
  "cells": [
    {
      "cell_type": "markdown",
      "source": [
        "\n",
        "# Google Colab Jupyter Notebook for Profiling\n",
        "---\n",
        "\n"
      ],
      "metadata": {
        "id": "ofGQucb16o_x"
      }
    },
    {
      "cell_type": "markdown",
      "source": [
        "# Preparations"
      ],
      "metadata": {
        "id": "8llMUtYI6kKD"
      }
    },
    {
      "cell_type": "code",
      "execution_count": 1,
      "metadata": {
        "colab": {
          "base_uri": "https://localhost:8080/"
        },
        "id": "bE6cgyJMXtZL",
        "outputId": "a920fe6e-a74a-418e-ac62-70bf5d16a30f"
      },
      "outputs": [
        {
          "output_type": "stream",
          "name": "stdout",
          "text": [
            "nvcc: NVIDIA (R) Cuda compiler driver\n",
            "Copyright (c) 2005-2021 NVIDIA Corporation\n",
            "Built on Sun_Feb_14_21:12:58_PST_2021\n",
            "Cuda compilation tools, release 11.2, V11.2.152\n",
            "Build cuda_11.2.r11.2/compiler.29618528_0\n",
            "Tue Jan 10 14:29:33 2023       \n",
            "+-----------------------------------------------------------------------------+\n",
            "| NVIDIA-SMI 460.32.03    Driver Version: 460.32.03    CUDA Version: 11.2     |\n",
            "|-------------------------------+----------------------+----------------------+\n",
            "| GPU  Name        Persistence-M| Bus-Id        Disp.A | Volatile Uncorr. ECC |\n",
            "| Fan  Temp  Perf  Pwr:Usage/Cap|         Memory-Usage | GPU-Util  Compute M. |\n",
            "|                               |                      |               MIG M. |\n",
            "|===============================+======================+======================|\n",
            "|   0  Tesla T4            Off  | 00000000:00:04.0 Off |                    0 |\n",
            "| N/A   47C    P0    27W /  70W |      0MiB / 15109MiB |      0%      Default |\n",
            "|                               |                      |                  N/A |\n",
            "+-------------------------------+----------------------+----------------------+\n",
            "                                                                               \n",
            "+-----------------------------------------------------------------------------+\n",
            "| Processes:                                                                  |\n",
            "|  GPU   GI   CI        PID   Type   Process name                  GPU Memory |\n",
            "|        ID   ID                                                   Usage      |\n",
            "|=============================================================================|\n",
            "|  No running processes found                                                 |\n",
            "+-----------------------------------------------------------------------------+\n"
          ]
        }
      ],
      "source": [
        "!nvcc --version\n",
        "!nvidia-smi"
      ]
    },
    {
      "cell_type": "code",
      "source": [
        "from google.colab import drive\n",
        "drive.mount('/content/drive')\n",
        "%cd '/content/drive/MyDrive/Colab Notebooks/AppliedGPU_finalProject'\n",
        "!ls"
      ],
      "metadata": {
        "colab": {
          "base_uri": "https://localhost:8080/"
        },
        "id": "2MbqOVlXYdBt",
        "outputId": "7e11b871-dfca-43a0-c242-3a08a9f639ff"
      },
      "execution_count": 2,
      "outputs": [
        {
          "output_type": "stream",
          "name": "stdout",
          "text": [
            "Drive already mounted at /content/drive; to attempt to forcibly remount, call drive.mount(\"/content/drive\", force_remount=True).\n",
            "/content/drive/MyDrive/Colab Notebooks/AppliedGPU_finalProject\n",
            "datasets  include  Makefile  src\n"
          ]
        }
      ]
    },
    {
      "cell_type": "markdown",
      "source": [
        "#Compiling"
      ],
      "metadata": {
        "id": "wheQrOds6esG"
      }
    },
    {
      "cell_type": "code",
      "source": [
        "!make clean\n",
        "!make all"
      ],
      "metadata": {
        "colab": {
          "base_uri": "https://localhost:8080/"
        },
        "id": "bbUgW3l0Ym9i",
        "outputId": "898b76f7-0e5f-4d3f-daa8-c4609e579448"
      },
      "execution_count": 3,
      "outputs": [
        {
          "output_type": "stream",
          "name": "stdout",
          "text": [
            "rm -rf  src/terminal_user_input.o src/knn.o src/test.o\n",
            "rm -rf bin/knn\n",
            "rm -rf bin/test\n",
            "mkdir -p bin\n",
            "[ -d src ] || mkdir src\n",
            "nvcc -std=c++11 -I./include -O2 -g -G -Xcompiler -Wall -lm  src/terminal_user_input.cpp -c -o src/terminal_user_input.o\n",
            "nvcc -I./include -arch=sm_75 -std=c++11 -O2 -g -G -Xcompiler -Wall --compiler-bindir=g++ -lm -lnvToolsExt  src/test.cu -c -o src/test.o\n",
            "nvcc -I./include -arch=sm_75 -std=c++11 -O2 -g -G -Xcompiler -Wall --compiler-bindir=g++ -lm -lnvToolsExt  src/terminal_user_input.o src/test.o -o bin/test\n",
            "nvcc -I./include -arch=sm_75 -std=c++11 -O2 -g -G -Xcompiler -Wall --compiler-bindir=g++ -lm -lnvToolsExt  -DNDEBUG src/knn.cu -c -o src/knn.o\n",
            "nvcc -I./include -arch=sm_75 -std=c++11 -O2 -g -G -Xcompiler -Wall --compiler-bindir=g++ -lm -lnvToolsExt  -DNDEBUG src/terminal_user_input.o src/knn.o -o bin/knn\n"
          ]
        }
      ]
    },
    {
      "cell_type": "markdown",
      "source": [
        "# Executing"
      ],
      "metadata": {
        "id": "eHS5V2qK6gmD"
      }
    },
    {
      "cell_type": "code",
      "source": [
        "!./bin/knn"
      ],
      "metadata": {
        "colab": {
          "base_uri": "https://localhost:8080/"
        },
        "id": "-bnSGYFimueO",
        "outputId": "b2dc3f74-29cc-4c0b-ed07-f62baa46eff0"
      },
      "execution_count": 31,
      "outputs": [
        {
          "output_type": "stream",
          "name": "stdout",
          "text": [
            "Filename: /content/drive/MyDrive/Colab Notebooks/AppliedGPU_finalProject/datasets/iris_dataset/iris.data.csv\n",
            "Please put the desired number of neighbours k for the search: 5\n",
            "How many query points do you want to enter?: 3\n",
            "Do you want to enter the query points manually? (yes/no) If no, the query points will be chosen randomly: no\n",
            "Query point ID 0 classified as: Iris-virginica\n",
            "Query point ID 1 classified as: Iris-virginica\n",
            "Query point ID 2 classified as: Iris-virginica\n"
          ]
        }
      ]
    },
    {
      "cell_type": "markdown",
      "source": [
        "#Debugging"
      ],
      "metadata": {
        "id": "wVZq9z3G5-F4"
      }
    },
    {
      "cell_type": "code",
      "source": [
        "!printf \"set cuda memcheck on\\nset cuda api_failures stop\\ncatch throw\\nr\\nbt\\ninfo locals\\nthread 1\\nbt\\n\" > ./tmp.txt\n",
        "!cuda-gdb -batch -x tmp.txt --args ./bin/knn"
      ],
      "metadata": {
        "colab": {
          "base_uri": "https://localhost:8080/"
        },
        "id": "Cr1iR51Zr0VO",
        "outputId": "5397ea49-4dad-4e44-e419-a63ce5c1b00d"
      },
      "execution_count": 18,
      "outputs": [
        {
          "output_type": "stream",
          "name": "stdout",
          "text": [
            "Catchpoint 1 (throw)\n",
            "warning: Error disabling address space randomization: Operation not permitted\n",
            "[Thread debugging using libthread_db enabled]\n",
            "Using host libthread_db library \"/lib/x86_64-linux-gnu/libthread_db.so.1\".\n",
            "Filename: /content/drive/MyDrive/Colab Notebooks/AppliedGPU_finalProject/datasets/iris_dataset/iris.data.csv\n",
            "Please put the desired number of neighbours k for the search: 5\n",
            "How many query points do you want to enter?: 1\n",
            "Do you want to enter the query points manually? (yes/no) If no, the query points will be chosen randomly: 1\n",
            "Please enter yes or no [y/n].Do you want to enter the query points manually? (yes/no) If no, the query points will be chosen randomly: yes\n",
            "0th dimension: 1\n",
            "1th dimension: 1\n",
            "2th dimension: 1\n",
            "3th dimension: 1\n",
            "[Detaching after fork from child process 7576]\n",
            "[New Thread 0x7f7b280cb700 (LWP 7580)]\n",
            "[New Thread 0x7f7b278ca700 (LWP 7581)]\n",
            "\n",
            "Thread 1 \"knn\" received signal SIGSEGV, Segmentation fault.\n",
            "0x000055b5854094e6 in classify (category_map=..., category=-2035521848) at src/knn.cu:661\n",
            "661\t  my_string class_string = category_map.categories[category];\n",
            "#0  0x000055b5854094e6 in classify (category_map=..., category=-2035521848) at src/knn.cu:661\n",
            "#1  0x000055b58540a671 in main (argc=1, argv=0x7ffcfe9f46a8) at src/knn.cu:1002\n",
            "class_string = {str = \"\\377\\377\\377\\377\\000\\000\\000\\000 \\240\\254\\206\\265U\\000\\000@\\240\\254\\206\\265U\\000\\000\\000\\317x)\\005\\020\\377\\323\\300P/\\206\\265U\\000\\000\\030\\000\\000\\000\\000\\000\\000\\000 \\000\\000\\000\\000\\000\\000\\000\\331\\344\\f\\307\\000\\000\\000\\000\\250F\\237\\376\\374\\177\\000\\000{2\\370\\060{\\177\\000\\000`E\\237\\376\\374\\177\\000\\000P`\\255\\206\\265U\\000\\000pଆ\\265U\\000\\000\\000ଆ\\265U\\000\\000\\331\\344\\f\\307\\000\\000\\000\\000\\bW\\376/{\\177\\000\\000\\002\\247@\\205\\265U\\000\\000y\\204\\303/{\\177\\000\\000\\200E\\237\\376\\374\\177\\000\\000\\002\\000\\000\\000\\000\\000\\000\\000\\200E\\237\\376\\374\\177\\000\\000\\000\\060j\\205\\265U\\000\\000\\001\\000\\000\\000\\000\\000\\000\\000\\214\\257@\\205\\265U\\000\\000\\004\\000\\000\\000\\000\\000\\000\\000%\\256@\\205\"...}\n",
            "[Switching to thread 1 (Thread 0x7f7b313b7000 (LWP 7427))]\n",
            "#0  0x000055b5854094e6 in classify (category_map=..., category=-2035521848) at src/knn.cu:661\n",
            "661\t  my_string class_string = category_map.categories[category];\n",
            "#0  0x000055b5854094e6 in classify (category_map=..., category=-2035521848) at src/knn.cu:661\n",
            "#1  0x000055b58540a671 in main (argc=1, argv=0x7ffcfe9f46a8) at src/knn.cu:1002\n"
          ]
        }
      ]
    },
    {
      "cell_type": "markdown",
      "source": [
        "#Profiling"
      ],
      "metadata": {
        "id": "XIZ97mgs6Aw_"
      }
    },
    {
      "cell_type": "markdown",
      "source": [
        "### Gprof"
      ],
      "metadata": {
        "id": "eXW3f_aF6Ew9"
      }
    },
    {
      "cell_type": "code",
      "source": [
        "!gprof ./bin/knn gmon.out"
      ],
      "metadata": {
        "colab": {
          "base_uri": "https://localhost:8080/"
        },
        "id": "9g3fpCQEnYR6",
        "outputId": "d38e1195-28f1-4980-83cb-9f5ced0e02c8"
      },
      "execution_count": null,
      "outputs": [
        {
          "output_type": "stream",
          "name": "stdout",
          "text": [
            "Flat profile:\n",
            "\n",
            "Each sample counts as 0.01 seconds.\n",
            "  %   cumulative   self              self     total           \n",
            " time   seconds   seconds    calls  ms/call  ms/call  name    \n",
            " 68.75      0.11     0.11   900001     0.00     0.00  count_fields(char*)\n",
            "  6.25      0.12     0.01   900000     0.00     0.00  extract_field(my_string, int)\n",
            "  6.25      0.13     0.01   100000     0.00     0.00  parse_point(my_string, int, Classifier_List*)\n",
            "  6.25      0.14     0.01   100000     0.00     0.00  get_class_num(my_string, Classifier_List*)\n",
            "  6.25      0.15     0.01        1    10.00    10.00  knn_search_parallel(int, comparision_point*, int, dataset*)\n",
            "  6.25      0.16     0.01                             __cudart768\n",
            "  0.00      0.16     0.00   100001     0.00     0.00  cudaError cudaMalloc<float>(float**, unsigned long)\n",
            "  0.00      0.16     0.00        4     0.00     0.00  dim3::dim3(unsigned int, unsigned int, unsigned int)\n",
            "  0.00      0.16     0.00        2     0.00     0.00  cudaError cudaMalloc<int>(int**, unsigned long)\n",
            "  0.00      0.16     0.00        2     0.00     0.00  cudaError cudaLaunchKernel<char>(char const*, dim3, dim3, void**, unsigned long, CUstream_st*)\n",
            "  0.00      0.16     0.00        1     0.00     0.00  __device_stub__Z20calculate_local_knnsiP17comparision_pointiP7datasetP28point_neighbour_relationship(int, comparision_point*, int, dataset*, point_neighbour_relationship*)\n",
            "  0.00      0.16     0.00        1     0.00     0.00  cudaError cudaMalloc<comparision_point>(comparision_point**, unsigned long)\n",
            "  0.00      0.16     0.00        1     0.00     0.00  cudaError cudaMalloc<point_neighbour_relationship>(point_neighbour_relationship**, unsigned long)\n",
            "  0.00      0.16     0.00        1     0.00     0.00  cudaError cudaMalloc<point>(point**, unsigned long)\n",
            "  0.00      0.16     0.00        1     0.00     0.00  cudaError cudaMalloc<dataset>(dataset**, unsigned long)\n",
            "  0.00      0.16     0.00        1     0.00     0.00  count_lines(my_string)\n",
            "  0.00      0.16     0.00        1     0.00     0.00  most_frequent(int*, int)\n",
            "  0.00      0.16     0.00        1     0.00   140.00  read_dataset_file(my_string, Classifier_List*)\n",
            "  0.00      0.16     0.00        1     0.00     0.00  new_classifier_list()\n",
            "  0.00      0.16     0.00        1     0.00     0.00  calculate_global_knn(int, int, point_neighbour_relationship*, int, int*, int*)\n",
            "  0.00      0.16     0.00        1     0.00     0.00  calculate_local_knns(int, comparision_point*, int, dataset*, point_neighbour_relationship*)\n",
            "  0.00      0.16     0.00        1     0.00     0.00  __device_stub__Z20calculate_global_knniiP28point_neighbour_relationshipiPiS1_(int, int, point_neighbour_relationship*, int, int*, int*)\n",
            "  0.00      0.16     0.00        1     0.00     0.00  classify(Classifier_List, int)\n",
            "  0.00      0.16     0.00        1     0.00     0.00  ____nv_dummy_param_ref(void*)\n",
            "  0.00      0.16     0.00        1     0.00     0.00  __sti____cudaRegisterAll()\n",
            "  0.00      0.16     0.00        1     0.00     0.00  __nv_cudaEntityRegisterCallback(void**)\n",
            "  0.00      0.16     0.00        1     0.00     0.00  __nv_save_fatbinhandle_for_managed_rt(void**)\n",
            "\n",
            " %         the percentage of the total running time of the\n",
            "time       program used by this function.\n",
            "\n",
            "cumulative a running sum of the number of seconds accounted\n",
            " seconds   for by this function and those listed above it.\n",
            "\n",
            " self      the number of seconds accounted for by this\n",
            "seconds    function alone.  This is the major sort for this\n",
            "           listing.\n",
            "\n",
            "calls      the number of times this function was invoked, if\n",
            "           this function is profiled, else blank.\n",
            "\n",
            " self      the average number of milliseconds spent in this\n",
            "ms/call    function per call, if this function is profiled,\n",
            "\t   else blank.\n",
            "\n",
            " total     the average number of milliseconds spent in this\n",
            "ms/call    function and its descendents per call, if this\n",
            "\t   function is profiled, else blank.\n",
            "\n",
            "name       the name of the function.  This is the minor sort\n",
            "           for this listing. The index shows the location of\n",
            "\t   the function in the gprof listing. If the index is\n",
            "\t   in parenthesis it shows where it would appear in\n",
            "\t   the gprof listing if it were to be printed.\n",
            "\f\n",
            "Copyright (C) 2012-2018 Free Software Foundation, Inc.\n",
            "\n",
            "Copying and distribution of this file, with or without modification,\n",
            "are permitted in any medium without royalty provided the copyright\n",
            "notice and this notice are preserved.\n",
            "\f\n",
            "\t\t     Call graph (explanation follows)\n",
            "\n",
            "\n",
            "granularity: each sample hit covers 2 byte(s) for 6.25% of 0.16 seconds\n",
            "\n",
            "index % time    self  children    called     name\n",
            "                                                 <spontaneous>\n",
            "[1]     93.8    0.00    0.15                 main [1]\n",
            "                0.00    0.14       1/1           read_dataset_file(my_string, Classifier_List*) [2]\n",
            "                0.01    0.00       1/1           knn_search_parallel(int, comparision_point*, int, dataset*) [7]\n",
            "                0.00    0.00       1/1           new_classifier_list() [378]\n",
            "                0.00    0.00       1/1           classify(Classifier_List, int) [382]\n",
            "-----------------------------------------------\n",
            "                0.00    0.14       1/1           main [1]\n",
            "[2]     87.5    0.00    0.14       1         read_dataset_file(my_string, Classifier_List*) [2]\n",
            "                0.01    0.13  100000/100000      parse_point(my_string, int, Classifier_List*) [3]\n",
            "                0.00    0.00       1/900001      count_fields(char*) [5]\n",
            "                0.00    0.00       1/1           count_lines(my_string) [376]\n",
            "-----------------------------------------------\n",
            "                0.01    0.13  100000/100000      read_dataset_file(my_string, Classifier_List*) [2]\n",
            "[3]     87.5    0.01    0.13  100000         parse_point(my_string, int, Classifier_List*) [3]\n",
            "                0.01    0.11  900000/900000      extract_field(my_string, int) [4]\n",
            "                0.01    0.00  100000/100000      get_class_num(my_string, Classifier_List*) [6]\n",
            "-----------------------------------------------\n",
            "                0.01    0.11  900000/900000      parse_point(my_string, int, Classifier_List*) [3]\n",
            "[4]     75.0    0.01    0.11  900000         extract_field(my_string, int) [4]\n",
            "                0.11    0.00  900000/900001      count_fields(char*) [5]\n",
            "-----------------------------------------------\n",
            "                0.00    0.00       1/900001      read_dataset_file(my_string, Classifier_List*) [2]\n",
            "                0.11    0.00  900000/900001      extract_field(my_string, int) [4]\n",
            "[5]     68.8    0.11    0.00  900001         count_fields(char*) [5]\n",
            "-----------------------------------------------\n",
            "                0.01    0.00  100000/100000      parse_point(my_string, int, Classifier_List*) [3]\n",
            "[6]      6.2    0.01    0.00  100000         get_class_num(my_string, Classifier_List*) [6]\n",
            "-----------------------------------------------\n",
            "                0.01    0.00       1/1           main [1]\n",
            "[7]      6.2    0.01    0.00       1         knn_search_parallel(int, comparision_point*, int, dataset*) [7]\n",
            "                0.00    0.00  100001/100001      cudaError cudaMalloc<float>(float**, unsigned long) [367]\n",
            "                0.00    0.00       4/4           dim3::dim3(unsigned int, unsigned int, unsigned int) [368]\n",
            "                0.00    0.00       2/2           cudaError cudaMalloc<int>(int**, unsigned long) [369]\n",
            "                0.00    0.00       1/1           cudaError cudaMalloc<comparision_point>(comparision_point**, unsigned long) [372]\n",
            "                0.00    0.00       1/1           cudaError cudaMalloc<dataset>(dataset**, unsigned long) [375]\n",
            "                0.00    0.00       1/1           cudaError cudaMalloc<point>(point**, unsigned long) [374]\n",
            "                0.00    0.00       1/1           cudaError cudaMalloc<point_neighbour_relationship>(point_neighbour_relationship**, unsigned long) [373]\n",
            "                0.00    0.00       1/1           calculate_local_knns(int, comparision_point*, int, dataset*, point_neighbour_relationship*) [380]\n",
            "                0.00    0.00       1/1           calculate_global_knn(int, int, point_neighbour_relationship*, int, int*, int*) [379]\n",
            "                0.00    0.00       1/1           most_frequent(int*, int) [377]\n",
            "-----------------------------------------------\n",
            "                                                 <spontaneous>\n",
            "[8]      6.2    0.01    0.00                 __cudart768 [8]\n",
            "-----------------------------------------------\n",
            "                0.00    0.00  100001/100001      knn_search_parallel(int, comparision_point*, int, dataset*) [7]\n",
            "[367]    0.0    0.00    0.00  100001         cudaError cudaMalloc<float>(float**, unsigned long) [367]\n",
            "-----------------------------------------------\n",
            "                0.00    0.00       4/4           knn_search_parallel(int, comparision_point*, int, dataset*) [7]\n",
            "[368]    0.0    0.00    0.00       4         dim3::dim3(unsigned int, unsigned int, unsigned int) [368]\n",
            "-----------------------------------------------\n",
            "                0.00    0.00       2/2           knn_search_parallel(int, comparision_point*, int, dataset*) [7]\n",
            "[369]    0.0    0.00    0.00       2         cudaError cudaMalloc<int>(int**, unsigned long) [369]\n",
            "-----------------------------------------------\n",
            "                0.00    0.00       1/2           __device_stub__Z20calculate_local_knnsiP17comparision_pointiP7datasetP28point_neighbour_relationship(int, comparision_point*, int, dataset*, point_neighbour_relationship*) [371]\n",
            "                0.00    0.00       1/2           __device_stub__Z20calculate_global_knniiP28point_neighbour_relationshipiPiS1_(int, int, point_neighbour_relationship*, int, int*, int*) [381]\n",
            "[370]    0.0    0.00    0.00       2         cudaError cudaLaunchKernel<char>(char const*, dim3, dim3, void**, unsigned long, CUstream_st*) [370]\n",
            "-----------------------------------------------\n",
            "                0.00    0.00       1/1           calculate_local_knns(int, comparision_point*, int, dataset*, point_neighbour_relationship*) [380]\n",
            "[371]    0.0    0.00    0.00       1         __device_stub__Z20calculate_local_knnsiP17comparision_pointiP7datasetP28point_neighbour_relationship(int, comparision_point*, int, dataset*, point_neighbour_relationship*) [371]\n",
            "                0.00    0.00       1/2           cudaError cudaLaunchKernel<char>(char const*, dim3, dim3, void**, unsigned long, CUstream_st*) [370]\n",
            "-----------------------------------------------\n",
            "                0.00    0.00       1/1           knn_search_parallel(int, comparision_point*, int, dataset*) [7]\n",
            "[372]    0.0    0.00    0.00       1         cudaError cudaMalloc<comparision_point>(comparision_point**, unsigned long) [372]\n",
            "-----------------------------------------------\n",
            "                0.00    0.00       1/1           knn_search_parallel(int, comparision_point*, int, dataset*) [7]\n",
            "[373]    0.0    0.00    0.00       1         cudaError cudaMalloc<point_neighbour_relationship>(point_neighbour_relationship**, unsigned long) [373]\n",
            "-----------------------------------------------\n",
            "                0.00    0.00       1/1           knn_search_parallel(int, comparision_point*, int, dataset*) [7]\n",
            "[374]    0.0    0.00    0.00       1         cudaError cudaMalloc<point>(point**, unsigned long) [374]\n",
            "-----------------------------------------------\n",
            "                0.00    0.00       1/1           knn_search_parallel(int, comparision_point*, int, dataset*) [7]\n",
            "[375]    0.0    0.00    0.00       1         cudaError cudaMalloc<dataset>(dataset**, unsigned long) [375]\n",
            "-----------------------------------------------\n",
            "                0.00    0.00       1/1           read_dataset_file(my_string, Classifier_List*) [2]\n",
            "[376]    0.0    0.00    0.00       1         count_lines(my_string) [376]\n",
            "-----------------------------------------------\n",
            "                0.00    0.00       1/1           knn_search_parallel(int, comparision_point*, int, dataset*) [7]\n",
            "[377]    0.0    0.00    0.00       1         most_frequent(int*, int) [377]\n",
            "-----------------------------------------------\n",
            "                0.00    0.00       1/1           main [1]\n",
            "[378]    0.0    0.00    0.00       1         new_classifier_list() [378]\n",
            "-----------------------------------------------\n",
            "                0.00    0.00       1/1           knn_search_parallel(int, comparision_point*, int, dataset*) [7]\n",
            "[379]    0.0    0.00    0.00       1         calculate_global_knn(int, int, point_neighbour_relationship*, int, int*, int*) [379]\n",
            "                0.00    0.00       1/1           __device_stub__Z20calculate_global_knniiP28point_neighbour_relationshipiPiS1_(int, int, point_neighbour_relationship*, int, int*, int*) [381]\n",
            "-----------------------------------------------\n",
            "                0.00    0.00       1/1           knn_search_parallel(int, comparision_point*, int, dataset*) [7]\n",
            "[380]    0.0    0.00    0.00       1         calculate_local_knns(int, comparision_point*, int, dataset*, point_neighbour_relationship*) [380]\n",
            "                0.00    0.00       1/1           __device_stub__Z20calculate_local_knnsiP17comparision_pointiP7datasetP28point_neighbour_relationship(int, comparision_point*, int, dataset*, point_neighbour_relationship*) [371]\n",
            "-----------------------------------------------\n",
            "                0.00    0.00       1/1           calculate_global_knn(int, int, point_neighbour_relationship*, int, int*, int*) [379]\n",
            "[381]    0.0    0.00    0.00       1         __device_stub__Z20calculate_global_knniiP28point_neighbour_relationshipiPiS1_(int, int, point_neighbour_relationship*, int, int*, int*) [381]\n",
            "                0.00    0.00       1/2           cudaError cudaLaunchKernel<char>(char const*, dim3, dim3, void**, unsigned long, CUstream_st*) [370]\n",
            "-----------------------------------------------\n",
            "                0.00    0.00       1/1           main [1]\n",
            "[382]    0.0    0.00    0.00       1         classify(Classifier_List, int) [382]\n",
            "-----------------------------------------------\n",
            "                0.00    0.00       1/1           __cudaUnregisterBinaryUtil() [406]\n",
            "[383]    0.0    0.00    0.00       1         ____nv_dummy_param_ref(void*) [383]\n",
            "-----------------------------------------------\n",
            "                0.00    0.00       1/1           __libc_csu_init [1547]\n",
            "[384]    0.0    0.00    0.00       1         __sti____cudaRegisterAll() [384]\n",
            "                0.00    0.00       1/1           __nv_cudaEntityRegisterCallback(void**) [385]\n",
            "-----------------------------------------------\n",
            "                0.00    0.00       1/1           __sti____cudaRegisterAll() [384]\n",
            "[385]    0.0    0.00    0.00       1         __nv_cudaEntityRegisterCallback(void**) [385]\n",
            "                0.00    0.00       1/1           __nv_save_fatbinhandle_for_managed_rt(void**) [386]\n",
            "-----------------------------------------------\n",
            "                0.00    0.00       1/1           __nv_cudaEntityRegisterCallback(void**) [385]\n",
            "[386]    0.0    0.00    0.00       1         __nv_save_fatbinhandle_for_managed_rt(void**) [386]\n",
            "-----------------------------------------------\n",
            "\n",
            " This table describes the call tree of the program, and was sorted by\n",
            " the total amount of time spent in each function and its children.\n",
            "\n",
            " Each entry in this table consists of several lines.  The line with the\n",
            " index number at the left hand margin lists the current function.\n",
            " The lines above it list the functions that called this function,\n",
            " and the lines below it list the functions this one called.\n",
            " This line lists:\n",
            "     index\tA unique number given to each element of the table.\n",
            "\t\tIndex numbers are sorted numerically.\n",
            "\t\tThe index number is printed next to every function name so\n",
            "\t\tit is easier to look up where the function is in the table.\n",
            "\n",
            "     % time\tThis is the percentage of the `total' time that was spent\n",
            "\t\tin this function and its children.  Note that due to\n",
            "\t\tdifferent viewpoints, functions excluded by options, etc,\n",
            "\t\tthese numbers will NOT add up to 100%.\n",
            "\n",
            "     self\tThis is the total amount of time spent in this function.\n",
            "\n",
            "     children\tThis is the total amount of time propagated into this\n",
            "\t\tfunction by its children.\n",
            "\n",
            "     called\tThis is the number of times the function was called.\n",
            "\t\tIf the function called itself recursively, the number\n",
            "\t\tonly includes non-recursive calls, and is followed by\n",
            "\t\ta `+' and the number of recursive calls.\n",
            "\n",
            "     name\tThe name of the current function.  The index number is\n",
            "\t\tprinted after it.  If the function is a member of a\n",
            "\t\tcycle, the cycle number is printed between the\n",
            "\t\tfunction's name and the index number.\n",
            "\n",
            "\n",
            " For the function's parents, the fields have the following meanings:\n",
            "\n",
            "     self\tThis is the amount of time that was propagated directly\n",
            "\t\tfrom the function into this parent.\n",
            "\n",
            "     children\tThis is the amount of time that was propagated from\n",
            "\t\tthe function's children into this parent.\n",
            "\n",
            "     called\tThis is the number of times this parent called the\n",
            "\t\tfunction `/' the total number of times the function\n",
            "\t\twas called.  Recursive calls to the function are not\n",
            "\t\tincluded in the number after the `/'.\n",
            "\n",
            "     name\tThis is the name of the parent.  The parent's index\n",
            "\t\tnumber is printed after it.  If the parent is a\n",
            "\t\tmember of a cycle, the cycle number is printed between\n",
            "\t\tthe name and the index number.\n",
            "\n",
            " If the parents of the function cannot be determined, the word\n",
            " `<spontaneous>' is printed in the `name' field, and all the other\n",
            " fields are blank.\n",
            "\n",
            " For the function's children, the fields have the following meanings:\n",
            "\n",
            "     self\tThis is the amount of time that was propagated directly\n",
            "\t\tfrom the child into the function.\n",
            "\n",
            "     children\tThis is the amount of time that was propagated from the\n",
            "\t\tchild's children to the function.\n",
            "\n",
            "     called\tThis is the number of times the function called\n",
            "\t\tthis child `/' the total number of times the child\n",
            "\t\twas called.  Recursive calls by the child are not\n",
            "\t\tlisted in the number after the `/'.\n",
            "\n",
            "     name\tThis is the name of the child.  The child's index\n",
            "\t\tnumber is printed after it.  If the child is a\n",
            "\t\tmember of a cycle, the cycle number is printed\n",
            "\t\tbetween the name and the index number.\n",
            "\n",
            " If there are any cycles (circles) in the call graph, there is an\n",
            " entry for the cycle-as-a-whole.  This entry shows who called the\n",
            " cycle (as parents) and the members of the cycle (as children.)\n",
            " The `+' recursive calls entry shows the number of function calls that\n",
            " were internal to the cycle, and the calls entry for each member shows,\n",
            " for that member, how many times it was called from other members of\n",
            " the cycle.\n",
            "\f\n",
            "Copyright (C) 2012-2018 Free Software Foundation, Inc.\n",
            "\n",
            "Copying and distribution of this file, with or without modification,\n",
            "are permitted in any medium without royalty provided the copyright\n",
            "notice and this notice are preserved.\n",
            "\f\n",
            "Index by function name\n",
            "\n",
            " [371] __device_stub__Z20calculate_local_knnsiP17comparision_pointiP7datasetP28point_neighbour_relationship(int, comparision_point*, int, dataset*, point_neighbour_relationship*) [5] count_fields(char*) [380] calculate_local_knns(int, comparision_point*, int, dataset*, point_neighbour_relationship*)\n",
            " [372] cudaError cudaMalloc<comparision_point>(comparision_point**, unsigned long) (cuda_runtime.h) [4] extract_field(my_string, int) [381] __device_stub__Z20calculate_global_knniiP28point_neighbour_relationshipiPiS1_(int, int, point_neighbour_relationship*, int, int*, int*)\n",
            " [373] cudaError cudaMalloc<point_neighbour_relationship>(point_neighbour_relationship**, unsigned long) (cuda_runtime.h) [6] get_class_num(my_string, Classifier_List*) [382] classify(Classifier_List, int)\n",
            " [374] cudaError cudaMalloc<point>(point**, unsigned long) (cuda_runtime.h) [377] most_frequent(int*, int) [383] ____nv_dummy_param_ref(void*) (host_runtime.h)\n",
            " [375] cudaError cudaMalloc<dataset>(dataset**, unsigned long) (cuda_runtime.h) [370] cudaError cudaLaunchKernel<char>(char const*, dim3, dim3, void**, unsigned long, CUstream_st*) (cuda_runtime.h) [384] __sti____cudaRegisterAll() (tmpxft_00004981_00000000-6_knn.cudafe1.stub.c)\n",
            " [367] cudaError cudaMalloc<float>(float**, unsigned long) (cuda_runtime.h) [2] read_dataset_file(my_string, Classifier_List*) [385] __nv_cudaEntityRegisterCallback(void**) (tmpxft_00004981_00000000-6_knn.cudafe1.stub.c)\n",
            " [369] cudaError cudaMalloc<int>(int**, unsigned long) (cuda_runtime.h) [7] knn_search_parallel(int, comparision_point*, int, dataset*) [386] __nv_save_fatbinhandle_for_managed_rt(void**) (knn.cu)\n",
            " [376] count_lines(my_string) [378] new_classifier_list() [368] dim3::dim3(unsigned int, unsigned int, unsigned int)\n",
            "   [3] parse_point(my_string, int, Classifier_List*) [379] calculate_global_knn(int, int, point_neighbour_relationship*, int, int*, int*) [8] __cudart768\n"
          ]
        }
      ]
    },
    {
      "cell_type": "markdown",
      "source": [
        "### CUDA_PROFILE"
      ],
      "metadata": {
        "id": "DwG5sBDE6LQK"
      }
    },
    {
      "cell_type": "code",
      "source": [
        "!CUDA_PROFILE=1 ./bin/knn"
      ],
      "metadata": {
        "colab": {
          "base_uri": "https://localhost:8080/"
        },
        "id": "wHm3qn7_tNkK",
        "outputId": "6a53ba3c-053f-4795-abc4-0aa9f1b26375"
      },
      "execution_count": null,
      "outputs": [
        {
          "output_type": "stream",
          "name": "stdout",
          "text": [
            "Point classified as: BOM_JARDIM_DA_SERRA_-_MORRO_DA_IGREJA\n"
          ]
        }
      ]
    },
    {
      "cell_type": "code",
      "source": [
        "!cat cuda_profile_1.log"
      ],
      "metadata": {
        "colab": {
          "base_uri": "https://localhost:8080/"
        },
        "id": "xfeYaIHstbSx",
        "outputId": "38200bc1-d086-4f24-cdbd-5cb1db87894b"
      },
      "execution_count": null,
      "outputs": [
        {
          "output_type": "stream",
          "name": "stdout",
          "text": [
            "cat: cuda_profile_1.log: No such file or directory\n"
          ]
        }
      ]
    },
    {
      "cell_type": "markdown",
      "source": [
        "### Nsys & Nvprof"
      ],
      "metadata": {
        "id": "gGz2fEaR6QAU"
      }
    },
    {
      "cell_type": "code",
      "source": [
        "!nvprof --output-profile profilingV2.nvprof ./bin/knn"
      ],
      "metadata": {
        "id": "3qmeUlZ1Brxn"
      },
      "execution_count": null,
      "outputs": []
    },
    {
      "cell_type": "code",
      "source": [
        "#!nvprof --profile-childprocesses ./bin/knn\n",
        "#--profile-all-processes\n",
        "#--cpu-profiling on --cpu-thread-tracing on\n",
        "\n",
        "!nsys nvprof ./bin/knn"
      ],
      "metadata": {
        "colab": {
          "base_uri": "https://localhost:8080/"
        },
        "id": "0PjvYJyHYxI-",
        "outputId": "f6ff617c-d531-4ffb-ad29-594e28865f24"
      },
      "execution_count": 85,
      "outputs": [
        {
          "output_type": "stream",
          "name": "stdout",
          "text": [
            "WARNING: knn and any of its children processes will be profiled.\n",
            "\n",
            "Collecting data...\n",
            "Filename: /content/drive/MyDrive/Colab Notebooks/AppliedGPU_finalProject/datasets/weather_dataset/weather_south_500.csv\n",
            "Please put the desired number of neighbours k for the search: 5\n",
            "How many query points do you want to enter?: 16\n",
            "Do you want to enter the query points manually? (yes/no) If no, the query points will be chosen randomly: no\n",
            "Query point ID 0 classified as: BOM_JARDIM_DA_SERRA_-_MORRO_DA_IGREJA\n",
            "Query point ID 1 classified as: BOM_JARDIM_DA_SERRA_-_MORRO_DA_IGREJA\n",
            "Query point ID 2 classified as: BOM_JARDIM_DA_SERRA_-_MORRO_DA_IGREJA\n",
            "Query point ID 3 classified as: BOM_JARDIM_DA_SERRA_-_MORRO_DA_IGREJA\n",
            "Query point ID 4 classified as: BOM_JARDIM_DA_SERRA_-_MORRO_DA_IGREJA\n",
            "Query point ID 5 classified as: BOM_JARDIM_DA_SERRA_-_MORRO_DA_IGREJA\n",
            "Query point ID 6 classified as: BOM_JARDIM_DA_SERRA_-_MORRO_DA_IGREJA\n",
            "Query point ID 7 classified as: BOM_JARDIM_DA_SERRA_-_MORRO_DA_IGREJA\n",
            "Query point ID 8 classified as: BOM_JARDIM_DA_SERRA_-_MORRO_DA_IGREJA\n",
            "Query point ID 9 classified as: BOM_JARDIM_DA_SERRA_-_MORRO_DA_IGREJA\n",
            "Query point ID 10 classified as: BOM_JARDIM_DA_SERRA_-_MORRO_DA_IGREJA\n",
            "Query point ID 11 classified as: BOM_JARDIM_DA_SERRA_-_MORRO_DA_IGREJA\n",
            "Query point ID 12 classified as: BOM_JARDIM_DA_SERRA_-_MORRO_DA_IGREJA\n",
            "Query point ID 13 classified as: BOM_JARDIM_DA_SERRA_-_MORRO_DA_IGREJA\n",
            "Query point ID 14 classified as: BOM_JARDIM_DA_SERRA_-_MORRO_DA_IGREJA\n",
            "Query point ID 15 classified as: BOM_JARDIM_DA_SERRA_-_MORRO_DA_IGREJA\n",
            "Processing events...\n",
            "Saving temporary \"/tmp/nsys-report-679b-60ba-6fe3-7300.qdstrm\" file to disk...\n",
            "Creating final output files...\n",
            "\n",
            "Processing [==============================================================100%]\n",
            "Saved report file to \"/tmp/nsys-report-679b-60ba-6fe3-7300.qdrep\"\n",
            "Exporting 48 events: [====================================================100%]\n",
            "\n",
            "Exported successfully to\n",
            "/tmp/nsys-report-679b-60ba-6fe3-7300.sqlite\n",
            "\n",
            "\n",
            "NVTX Push-Pop Range Statistics:\n",
            "\n",
            " Time(%)  Total Time (ns)  Instances   Average   Minimum  Maximum              Range             \n",
            " -------  ---------------  ---------  ---------  -------  -------  ------------------------------\n",
            "   100.0          428,758          1  428,758.0  428,758  428,758  main - knn_search (sequential)\n",
            "\n",
            "Report file moved to \"/content/drive/MyDrive/Colab Notebooks/AppliedGPU_finalProject/report3.qdrep\"\n",
            "Report file moved to \"/content/drive/MyDrive/Colab Notebooks/AppliedGPU_finalProject/report3.sqlite\"\n"
          ]
        }
      ]
    },
    {
      "cell_type": "markdown",
      "source": [
        "# Analysis & Plotting"
      ],
      "metadata": {
        "id": "wu7zoLmf7UnG"
      }
    },
    {
      "cell_type": "code",
      "source": [
        "import matplotlib.pyplot as plt\n",
        "import numpy as np\n",
        "import pandas as pd"
      ],
      "metadata": {
        "id": "09I9Qw7GBSxM"
      },
      "execution_count": 7,
      "outputs": []
    },
    {
      "cell_type": "markdown",
      "source": [
        "### Plots for different values of k"
      ],
      "metadata": {
        "id": "dtvqhorn_bvT"
      }
    },
    {
      "cell_type": "code",
      "source": [
        "index_k = ['a', 'b', 'c', 'd', 'e']\n",
        "\n",
        "execution_time_sequential_500 = [1, 2, 3, 4, 5]\n",
        "execution_time_parallel_500 = [6, 7, 8, 9, 10]\n",
        "\n",
        "execution_time_sequential_10k = [10, 20, 30, 40, 50]\n",
        "execution_time_parallel_10k = [60, 70, 80, 90, 100]\n",
        "\n",
        "execution_time_sequential_100k = [100, 200, 300, 400, 500]\n",
        "execution_time_parallel_100k = [600, 700, 800, 900, 100]\n",
        "\n",
        "df_500 = pd.DataFrame({'Execution time sequential': execution_time_sequential_500,\n",
        "                   'Execution time parallel': execution_time_parallel_500,}, index=index_k)\n",
        "\n",
        "df_10k = pd.DataFrame({'Execution time sequential': execution_time_sequential_10k,\n",
        "                   'Execution time parallel': execution_time_parallel_10k,}, index=index_k)\n",
        "\n",
        "df_100k = pd.DataFrame({'Execution time sequential': execution_time_sequential_100k,\n",
        "                   'Execution time parallel': execution_time_parallel_100k,}, index=index_k)\n",
        "\n",
        "\n",
        "width = 0.3\n",
        "\n",
        "fig, axes = plt.subplots(nrows = 3, ncols = 1)\n",
        "\n",
        "ax = df_500.plot.bar(ax = axes[0], width = width, rot = 0, alpha = 1, fontsize=12, color={\"Execution time sequential\": \"palevioletred\", \"Execution time parallel\": \"mediumseagreen\"})\n",
        "ax.set_title(\"Dataset with 500 datapoints (7 dimensions): 'weather_south_500.csv'\")\n",
        "ax.set_xlabel(\"Number of k\", fontsize=12)\n",
        "ax.set_ylabel(\"Execution time (ms)\", fontsize=12)\n",
        "\n",
        "ax = df_10k.plot.bar(ax = axes[1], width = width, rot = 0, alpha = 1, fontsize=12, color={\"Execution time sequential\": \"palevioletred\", \"Execution time parallel\": \"mediumseagreen\"})\n",
        "ax.set_title(\"Dataset with 10,000 datapoints (7 dimensions): 'weather_south_10k.csv'\")\n",
        "ax.set_xlabel(\"Number of k\", fontsize=12)\n",
        "ax.set_ylabel(\"Execution time (ms)\", fontsize=12)\n",
        "\n",
        "ax = df_100k.plot.bar(ax = axes[2], width = width, rot = 0, alpha = 1, fontsize=12, color={\"Execution time sequential\": \"palevioletred\", \"Execution time parallel\": \"mediumseagreen\"})\n",
        "ax.set_title(\"Dataset with 100,000 datapoints (7 dimensions): 'weather_south_100k.csv'\")\n",
        "ax.set_xlabel(\"Number of k\", fontsize=12)\n",
        "ax.set_ylabel(\"Execution time (ms)\", fontsize=12)\n",
        "\n",
        "plt.subplots_adjust(hspace=0.4)\n",
        "fig.suptitle(\"Comparison of sequential and parallel execution time for different k. \\n Each plot is related to a different dataset size.\", y=0.93, fontweight = \"bold\", fontsize = 14)\n",
        "fig.set_size_inches(10, 15, forward=True)"
      ],
      "metadata": {
        "colab": {
          "base_uri": "https://localhost:8080/",
          "height": 937
        },
        "id": "TexwbTVh7byF",
        "outputId": "5f54e973-113b-4305-e7ac-9037a073c594"
      },
      "execution_count": 73,
      "outputs": [
        {
          "output_type": "display_data",
          "data": {
            "text/plain": [
              "<Figure size 720x1080 with 3 Axes>"
            ],
            "image/png": "[encoded data removed]"
          },
          "metadata": {
            "needs_background": "light"
          }
        }
      ]
    }
  ]
}